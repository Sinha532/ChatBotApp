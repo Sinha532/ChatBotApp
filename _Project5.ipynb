{
  "cells": [
    {
      "cell_type": "markdown",
      "metadata": {
        "id": "view-in-github",
        "colab_type": "text"
      },
      "source": [
        "<a href=\"https://colab.research.google.com/github/Sinha532/ChatBotApp/blob/main/_Project5.ipynb\" target=\"_parent\"><img src=\"https://colab.research.google.com/assets/colab-badge.svg\" alt=\"Open In Colab\"/></a>"
      ]
    },
    {
      "cell_type": "markdown",
      "metadata": {
        "id": "0IrczONmBCaS"
      },
      "source": [
        "# Project on Web Scraping reviews and Performing Sentiment Analysis using BERT"
      ]
    },
    {
      "cell_type": "markdown",
      "source": [
        "**Importing Necessary Libraries**\n",
        "\n",
        "BeautifulSoup: For Parsing the html page\n",
        "\n",
        "requests: For requesting html code from web\n",
        "\n",
        "pandas: to create the dataframe"
      ],
      "metadata": {
        "id": "hRbLJRMnI7rZ"
      }
    },
    {
      "cell_type": "code",
      "source": [
        "from bs4 import BeautifulSoup\n",
        "import requests\n",
        "import pandas as pd\n",
        "import re\n"
      ],
      "metadata": {
        "id": "xWu0YCFoH-D-"
      },
      "execution_count": 56,
      "outputs": []
    },
    {
      "cell_type": "markdown",
      "source": [
        "dataset(): performs to extract username, title and review\n",
        "returns a dataframe in the last"
      ],
      "metadata": {
        "id": "axgY9jSAIotb"
      }
    },
    {
      "cell_type": "code",
      "source": [
        "def dataset(soup):\n",
        "  titles=[]\n",
        "  users=[]\n",
        "  reviews=[]\n",
        "\n",
        "  li_elements=soup.find_all('li',class_=\"parent_review li_parent_0\")\n",
        "  for li_element in li_elements:\n",
        "\n",
        "    title= li_element.find('div',class_=\"_flx _cmttl\")\n",
        "    if title:\n",
        "      titles.append(title.get_text(strip=True))\n",
        "\n",
        "    i=li_element.find('div',class_=\"_cmtname\")\n",
        "    if i:\n",
        "      text=i.get_text(strip=True)\n",
        "\n",
        "      name_pattern = r'^(.*?)\\('\n",
        "      match = re.search(name_pattern,text)\n",
        "\n",
        "      if match:\n",
        "        name=match.group(1)\n",
        "        users.append(name)\n",
        "      else:\n",
        "        users.append(\"unknown\")\n",
        "\n",
        "    review=li_element.find('div',class_=\"_cmttxt _wwrap\")\n",
        "    if review:\n",
        "      reviews.append(review.get_text(strip=True))\n",
        "\n",
        "  df={\n",
        "      \"Title\":titles,\n",
        "      \"Users\":users,\n",
        "      \"Reviews\":reviews\n",
        "  }\n",
        "\n",
        "  data=pd.DataFrame(df)\n",
        "\n",
        "  return data"
      ],
      "metadata": {
        "id": "mC51MWjH38Wr"
      },
      "execution_count": 57,
      "outputs": []
    },
    {
      "cell_type": "markdown",
      "source": [
        " Passing the *url* to **requests.get()** to get the html elements page\n",
        "\n",
        " we pass the *headers* to To specify the accept content\n",
        "\n",
        " when the *response is 200* we pass the html text content to **BeautifulSoup()** to start parsing"
      ],
      "metadata": {
        "id": "bh2Jq67DJbh5"
      }
    },
    {
      "cell_type": "code",
      "source": [
        "url=\"https://www.gadgets360.com/apple-iphone-7-3766/user-reviews\"\n",
        "headers = {\n",
        "    \"User-Agent\": \"Mozilla/5.0 (Windows NT 10.0; Win64; x64) AppleWebKit/537.36 (KHTML, like Gecko) Chrome/58.0.3029.110 Safari/537.36\"\n",
        "}\n",
        "\n",
        "response = requests.get(url, headers=headers)\n",
        "\n",
        "if response.status_code == 200:\n",
        "\n",
        "    soup = BeautifulSoup(response.text, 'html.parser')\n",
        "    data=dataset(soup)\n",
        "\n",
        "else:\n",
        "\n",
        "  print(\"No Data Found\")"
      ],
      "metadata": {
        "id": "g4t7XXLHJaFi"
      },
      "execution_count": 58,
      "outputs": []
    },
    {
      "cell_type": "markdown",
      "source": [
        "#Loading the Dataset"
      ],
      "metadata": {
        "id": "Ii3eNSOqLQkT"
      }
    },
    {
      "cell_type": "code",
      "source": [
        "data.head(5)"
      ],
      "metadata": {
        "colab": {
          "base_uri": "https://localhost:8080/",
          "height": 258
        },
        "id": "VTmdmqiELVIs",
        "outputId": "a96adc9e-1503-42cc-fad6-dc7579f26c1a"
      },
      "execution_count": 59,
      "outputs": [
        {
          "output_type": "execute_result",
          "data": {
            "text/plain": [
              "                 Title              Users  \\\n",
              "0          OTG support    Sanky Shilkollu   \n",
              "1      iPhone 7 review               Jaya   \n",
              "2          Good mobile    Gyanendra Kumar   \n",
              "3         Good product    Gyanendra Kumar   \n",
              "4  Battery of iPhone 7  SHAIK WASIM AKRAM   \n",
              "\n",
              "                                             Reviews  \n",
              "0          Does iphone 7 and 7 plus have OTG support  \n",
              "1  So excited for the product... apple is truly a...  \n",
              "2                                        Good mobile  \n",
              "3                                       Good product  \n",
              "4  Pls confirm me the screen time one full charge...  "
            ],
            "text/html": [
              "\n",
              "  <div id=\"df-a945e770-7049-44bf-9c9c-b76a1f609721\" class=\"colab-df-container\">\n",
              "    <div>\n",
              "<style scoped>\n",
              "    .dataframe tbody tr th:only-of-type {\n",
              "        vertical-align: middle;\n",
              "    }\n",
              "\n",
              "    .dataframe tbody tr th {\n",
              "        vertical-align: top;\n",
              "    }\n",
              "\n",
              "    .dataframe thead th {\n",
              "        text-align: right;\n",
              "    }\n",
              "</style>\n",
              "<table border=\"1\" class=\"dataframe\">\n",
              "  <thead>\n",
              "    <tr style=\"text-align: right;\">\n",
              "      <th></th>\n",
              "      <th>Title</th>\n",
              "      <th>Users</th>\n",
              "      <th>Reviews</th>\n",
              "    </tr>\n",
              "  </thead>\n",
              "  <tbody>\n",
              "    <tr>\n",
              "      <th>0</th>\n",
              "      <td>OTG support</td>\n",
              "      <td>Sanky Shilkollu</td>\n",
              "      <td>Does iphone 7 and 7 plus have OTG support</td>\n",
              "    </tr>\n",
              "    <tr>\n",
              "      <th>1</th>\n",
              "      <td>iPhone 7 review</td>\n",
              "      <td>Jaya</td>\n",
              "      <td>So excited for the product... apple is truly a...</td>\n",
              "    </tr>\n",
              "    <tr>\n",
              "      <th>2</th>\n",
              "      <td>Good mobile</td>\n",
              "      <td>Gyanendra Kumar</td>\n",
              "      <td>Good mobile</td>\n",
              "    </tr>\n",
              "    <tr>\n",
              "      <th>3</th>\n",
              "      <td>Good product</td>\n",
              "      <td>Gyanendra Kumar</td>\n",
              "      <td>Good product</td>\n",
              "    </tr>\n",
              "    <tr>\n",
              "      <th>4</th>\n",
              "      <td>Battery of iPhone 7</td>\n",
              "      <td>SHAIK WASIM AKRAM</td>\n",
              "      <td>Pls confirm me the screen time one full charge...</td>\n",
              "    </tr>\n",
              "  </tbody>\n",
              "</table>\n",
              "</div>\n",
              "    <div class=\"colab-df-buttons\">\n",
              "\n",
              "  <div class=\"colab-df-container\">\n",
              "    <button class=\"colab-df-convert\" onclick=\"convertToInteractive('df-a945e770-7049-44bf-9c9c-b76a1f609721')\"\n",
              "            title=\"Convert this dataframe to an interactive table.\"\n",
              "            style=\"display:none;\">\n",
              "\n",
              "  <svg xmlns=\"http://www.w3.org/2000/svg\" height=\"24px\" viewBox=\"0 -960 960 960\">\n",
              "    <path d=\"M120-120v-720h720v720H120Zm60-500h600v-160H180v160Zm220 220h160v-160H400v160Zm0 220h160v-160H400v160ZM180-400h160v-160H180v160Zm440 0h160v-160H620v160ZM180-180h160v-160H180v160Zm440 0h160v-160H620v160Z\"/>\n",
              "  </svg>\n",
              "    </button>\n",
              "\n",
              "  <style>\n",
              "    .colab-df-container {\n",
              "      display:flex;\n",
              "      gap: 12px;\n",
              "    }\n",
              "\n",
              "    .colab-df-convert {\n",
              "      background-color: #E8F0FE;\n",
              "      border: none;\n",
              "      border-radius: 50%;\n",
              "      cursor: pointer;\n",
              "      display: none;\n",
              "      fill: #1967D2;\n",
              "      height: 32px;\n",
              "      padding: 0 0 0 0;\n",
              "      width: 32px;\n",
              "    }\n",
              "\n",
              "    .colab-df-convert:hover {\n",
              "      background-color: #E2EBFA;\n",
              "      box-shadow: 0px 1px 2px rgba(60, 64, 67, 0.3), 0px 1px 3px 1px rgba(60, 64, 67, 0.15);\n",
              "      fill: #174EA6;\n",
              "    }\n",
              "\n",
              "    .colab-df-buttons div {\n",
              "      margin-bottom: 4px;\n",
              "    }\n",
              "\n",
              "    [theme=dark] .colab-df-convert {\n",
              "      background-color: #3B4455;\n",
              "      fill: #D2E3FC;\n",
              "    }\n",
              "\n",
              "    [theme=dark] .colab-df-convert:hover {\n",
              "      background-color: #434B5C;\n",
              "      box-shadow: 0px 1px 3px 1px rgba(0, 0, 0, 0.15);\n",
              "      filter: drop-shadow(0px 1px 2px rgba(0, 0, 0, 0.3));\n",
              "      fill: #FFFFFF;\n",
              "    }\n",
              "  </style>\n",
              "\n",
              "    <script>\n",
              "      const buttonEl =\n",
              "        document.querySelector('#df-a945e770-7049-44bf-9c9c-b76a1f609721 button.colab-df-convert');\n",
              "      buttonEl.style.display =\n",
              "        google.colab.kernel.accessAllowed ? 'block' : 'none';\n",
              "\n",
              "      async function convertToInteractive(key) {\n",
              "        const element = document.querySelector('#df-a945e770-7049-44bf-9c9c-b76a1f609721');\n",
              "        const dataTable =\n",
              "          await google.colab.kernel.invokeFunction('convertToInteractive',\n",
              "                                                    [key], {});\n",
              "        if (!dataTable) return;\n",
              "\n",
              "        const docLinkHtml = 'Like what you see? Visit the ' +\n",
              "          '<a target=\"_blank\" href=https://colab.research.google.com/notebooks/data_table.ipynb>data table notebook</a>'\n",
              "          + ' to learn more about interactive tables.';\n",
              "        element.innerHTML = '';\n",
              "        dataTable['output_type'] = 'display_data';\n",
              "        await google.colab.output.renderOutput(dataTable, element);\n",
              "        const docLink = document.createElement('div');\n",
              "        docLink.innerHTML = docLinkHtml;\n",
              "        element.appendChild(docLink);\n",
              "      }\n",
              "    </script>\n",
              "  </div>\n",
              "\n",
              "\n",
              "<div id=\"df-28b95ec6-4ba5-47c8-97a1-e0dde1e195ea\">\n",
              "  <button class=\"colab-df-quickchart\" onclick=\"quickchart('df-28b95ec6-4ba5-47c8-97a1-e0dde1e195ea')\"\n",
              "            title=\"Suggest charts.\"\n",
              "            style=\"display:none;\">\n",
              "\n",
              "<svg xmlns=\"http://www.w3.org/2000/svg\" height=\"24px\"viewBox=\"0 0 24 24\"\n",
              "     width=\"24px\">\n",
              "    <g>\n",
              "        <path d=\"M19 3H5c-1.1 0-2 .9-2 2v14c0 1.1.9 2 2 2h14c1.1 0 2-.9 2-2V5c0-1.1-.9-2-2-2zM9 17H7v-7h2v7zm4 0h-2V7h2v10zm4 0h-2v-4h2v4z\"/>\n",
              "    </g>\n",
              "</svg>\n",
              "  </button>\n",
              "\n",
              "<style>\n",
              "  .colab-df-quickchart {\n",
              "      --bg-color: #E8F0FE;\n",
              "      --fill-color: #1967D2;\n",
              "      --hover-bg-color: #E2EBFA;\n",
              "      --hover-fill-color: #174EA6;\n",
              "      --disabled-fill-color: #AAA;\n",
              "      --disabled-bg-color: #DDD;\n",
              "  }\n",
              "\n",
              "  [theme=dark] .colab-df-quickchart {\n",
              "      --bg-color: #3B4455;\n",
              "      --fill-color: #D2E3FC;\n",
              "      --hover-bg-color: #434B5C;\n",
              "      --hover-fill-color: #FFFFFF;\n",
              "      --disabled-bg-color: #3B4455;\n",
              "      --disabled-fill-color: #666;\n",
              "  }\n",
              "\n",
              "  .colab-df-quickchart {\n",
              "    background-color: var(--bg-color);\n",
              "    border: none;\n",
              "    border-radius: 50%;\n",
              "    cursor: pointer;\n",
              "    display: none;\n",
              "    fill: var(--fill-color);\n",
              "    height: 32px;\n",
              "    padding: 0;\n",
              "    width: 32px;\n",
              "  }\n",
              "\n",
              "  .colab-df-quickchart:hover {\n",
              "    background-color: var(--hover-bg-color);\n",
              "    box-shadow: 0 1px 2px rgba(60, 64, 67, 0.3), 0 1px 3px 1px rgba(60, 64, 67, 0.15);\n",
              "    fill: var(--button-hover-fill-color);\n",
              "  }\n",
              "\n",
              "  .colab-df-quickchart-complete:disabled,\n",
              "  .colab-df-quickchart-complete:disabled:hover {\n",
              "    background-color: var(--disabled-bg-color);\n",
              "    fill: var(--disabled-fill-color);\n",
              "    box-shadow: none;\n",
              "  }\n",
              "\n",
              "  .colab-df-spinner {\n",
              "    border: 2px solid var(--fill-color);\n",
              "    border-color: transparent;\n",
              "    border-bottom-color: var(--fill-color);\n",
              "    animation:\n",
              "      spin 1s steps(1) infinite;\n",
              "  }\n",
              "\n",
              "  @keyframes spin {\n",
              "    0% {\n",
              "      border-color: transparent;\n",
              "      border-bottom-color: var(--fill-color);\n",
              "      border-left-color: var(--fill-color);\n",
              "    }\n",
              "    20% {\n",
              "      border-color: transparent;\n",
              "      border-left-color: var(--fill-color);\n",
              "      border-top-color: var(--fill-color);\n",
              "    }\n",
              "    30% {\n",
              "      border-color: transparent;\n",
              "      border-left-color: var(--fill-color);\n",
              "      border-top-color: var(--fill-color);\n",
              "      border-right-color: var(--fill-color);\n",
              "    }\n",
              "    40% {\n",
              "      border-color: transparent;\n",
              "      border-right-color: var(--fill-color);\n",
              "      border-top-color: var(--fill-color);\n",
              "    }\n",
              "    60% {\n",
              "      border-color: transparent;\n",
              "      border-right-color: var(--fill-color);\n",
              "    }\n",
              "    80% {\n",
              "      border-color: transparent;\n",
              "      border-right-color: var(--fill-color);\n",
              "      border-bottom-color: var(--fill-color);\n",
              "    }\n",
              "    90% {\n",
              "      border-color: transparent;\n",
              "      border-bottom-color: var(--fill-color);\n",
              "    }\n",
              "  }\n",
              "</style>\n",
              "\n",
              "  <script>\n",
              "    async function quickchart(key) {\n",
              "      const quickchartButtonEl =\n",
              "        document.querySelector('#' + key + ' button');\n",
              "      quickchartButtonEl.disabled = true;  // To prevent multiple clicks.\n",
              "      quickchartButtonEl.classList.add('colab-df-spinner');\n",
              "      try {\n",
              "        const charts = await google.colab.kernel.invokeFunction(\n",
              "            'suggestCharts', [key], {});\n",
              "      } catch (error) {\n",
              "        console.error('Error during call to suggestCharts:', error);\n",
              "      }\n",
              "      quickchartButtonEl.classList.remove('colab-df-spinner');\n",
              "      quickchartButtonEl.classList.add('colab-df-quickchart-complete');\n",
              "    }\n",
              "    (() => {\n",
              "      let quickchartButtonEl =\n",
              "        document.querySelector('#df-28b95ec6-4ba5-47c8-97a1-e0dde1e195ea button');\n",
              "      quickchartButtonEl.style.display =\n",
              "        google.colab.kernel.accessAllowed ? 'block' : 'none';\n",
              "    })();\n",
              "  </script>\n",
              "</div>\n",
              "    </div>\n",
              "  </div>\n"
            ]
          },
          "metadata": {},
          "execution_count": 59
        }
      ]
    },
    {
      "cell_type": "markdown",
      "source": [
        "#BERT MODEL\n",
        "for Sentiment Analysis of Reviews on Apple Iphone 7\n",
        "\n",
        "BertTokenizer.from_pretrained():used for tokenizing and preprocessing text using Hugging Face transformer \"bert-base-uncased\"\n",
        "\n",
        "BertForSequenceClassification: takes a sequence of text as input and outputs a probability distribution over a set of labels. The labels can be any categorical class, such as positive or negative sentiment."
      ],
      "metadata": {
        "id": "txAcLw67py3T"
      }
    },
    {
      "cell_type": "code",
      "source": [
        "from transformers import BertTokenizer, BertForSequenceClassification\n",
        "\n",
        "tokenizer = BertTokenizer.from_pretrained(\"bert-base-uncased\")\n",
        "model = BertForSequenceClassification.from_pretrained(\"bert-base-uncased\")"
      ],
      "metadata": {
        "colab": {
          "base_uri": "https://localhost:8080/"
        },
        "id": "NPh0LOf2IWnZ",
        "outputId": "0c83ba10-ea6a-4d59-82d3-5d537d109907"
      },
      "execution_count": 60,
      "outputs": [
        {
          "output_type": "stream",
          "name": "stderr",
          "text": [
            "Some weights of BertForSequenceClassification were not initialized from the model checkpoint at bert-base-uncased and are newly initialized: ['classifier.weight', 'classifier.bias']\n",
            "You should probably TRAIN this model on a down-stream task to be able to use it for predictions and inference.\n"
          ]
        }
      ]
    },
    {
      "cell_type": "markdown",
      "source": [
        "BERT is a transformer-based model, and transformers are notoriously difficult to train and deploy.\n",
        "\n",
        "Torch provides a number of features that make it easier to train and deploy transformer models.\n",
        "\n",
        "\"Sentiment\": It is new column to store the sentiment analysis of the \"Reviews\"\n",
        "\n",
        "\n",
        "\n"
      ],
      "metadata": {
        "id": "PrutBvWPrLZQ"
      }
    },
    {
      "cell_type": "code",
      "source": [
        "import torch\n",
        "data[\"Sentiment\"]='  '\n",
        "\n",
        "for index,row in data.iterrows():\n",
        "  input_text=data['Reviews'][index]\n",
        "  inputs=tokenizer(input_text, return_tensors=\"pt\",truncation=True, padding=True)\n",
        "\n",
        "  with torch.no_grad():\n",
        "    outputs=model(**inputs)\n",
        "    logits=outputs.logits\n",
        "\n",
        "  probs= torch.softmax(logits,dim=1)\n",
        "  predict_class= torch.argmax(probs,dim=1).item()\n",
        "\n",
        "  sentiment=\"positive\" if predict_class ==0 else \"negative\"\n",
        "\n",
        "  data.at[index,'Sentiment']=sentiment\n"
      ],
      "metadata": {
        "id": "oEznoo5oKbcm"
      },
      "execution_count": 62,
      "outputs": []
    },
    {
      "cell_type": "markdown",
      "source": [
        "tokenizer(): takes sequence of text as input and outputs Probability Distribution\n",
        "\n",
        "input_text: text need to be tokenized and preprocessed\n",
        "\n",
        "return_tensors: return tokenized text in the form of PyTorch Tensors\n",
        "\n",
        "Truncation='True': Tells the input_text  to stop if it exceeds the max token limit\n",
        "\n",
        "Padding='True': add padding tokens to the input if it is shorter then the max token length\n"
      ],
      "metadata": {
        "id": "VkSchOQWvGxd"
      }
    },
    {
      "cell_type": "code",
      "source": [
        "for index,row in data.iterrows():\n",
        "  input_text=data['Reviews'][index]\n",
        "  inputs=tokenizer(input_text, return_tensors=\"pt\",truncation=True, padding=True)"
      ],
      "metadata": {
        "id": "QswRYytux3oY"
      },
      "execution_count": 63,
      "outputs": []
    },
    {
      "cell_type": "markdown",
      "source": [
        "no_grad(): It optimize the performance as we are not training the model although using pre-trained model , so there is need not to update the parameters\n",
        "\n",
        "inputs: this is a dictionary containing tokenized and preprocessed text in the form of keyword arguments.\n",
        "\n",
        "\n",
        "**inputs: pass the inputs as keyword arguments to the model."
      ],
      "metadata": {
        "id": "KN-en4K2x5xa"
      }
    },
    {
      "cell_type": "code",
      "source": [
        "with torch.no_grad():\n",
        "  outputs=model(**inputs)\n",
        "  logits=outputs.logits\n",
        "\n",
        "print(inputs)"
      ],
      "metadata": {
        "colab": {
          "base_uri": "https://localhost:8080/"
        },
        "id": "pRUPVC9Tzq8Q",
        "outputId": "6dad32af-590b-4655-a7d4-334766ce51be"
      },
      "execution_count": 64,
      "outputs": [
        {
          "output_type": "stream",
          "name": "stdout",
          "text": [
            "{'input_ids': tensor([[ 101, 2190, 2412, 1999, 3504,  102]]), 'token_type_ids': tensor([[0, 0, 0, 0, 0, 0]]), 'attention_mask': tensor([[1, 1, 1, 1, 1, 1]])}\n"
          ]
        }
      ]
    },
    {
      "cell_type": "markdown",
      "source": [
        "softmax():The softmax operation transforms the logits into a probability distribution over classes. It exponentiates each element in the tensor and then normalizes the results.\n",
        "\n",
        "![image.png](data:image/png;base64,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)\n",
        "\n",
        "\n",
        "\n",
        "\n"
      ],
      "metadata": {
        "id": "IPdZajH90GB9"
      }
    },
    {
      "cell_type": "code",
      "source": [
        "  probs= torch.softmax(logits,dim=1)\n",
        "  predict_class= torch.argmax(probs,dim=1).item()"
      ],
      "metadata": {
        "id": "gbuOL4_m1mOG"
      },
      "execution_count": 65,
      "outputs": []
    },
    {
      "cell_type": "code",
      "source": [
        "print(data.head())"
      ],
      "metadata": {
        "colab": {
          "base_uri": "https://localhost:8080/"
        },
        "id": "NUtBjajwKjGn",
        "outputId": "a6d91923-1d63-4fb8-d978-4fed2aad55cd"
      },
      "execution_count": 66,
      "outputs": [
        {
          "output_type": "stream",
          "name": "stdout",
          "text": [
            "                 Title              Users  \\\n",
            "0          OTG support    Sanky Shilkollu   \n",
            "1      iPhone 7 review               Jaya   \n",
            "2          Good mobile    Gyanendra Kumar   \n",
            "3         Good product    Gyanendra Kumar   \n",
            "4  Battery of iPhone 7  SHAIK WASIM AKRAM   \n",
            "\n",
            "                                             Reviews Sentiment  \n",
            "0          Does iphone 7 and 7 plus have OTG support  positive  \n",
            "1  So excited for the product... apple is truly a...  positive  \n",
            "2                                        Good mobile  positive  \n",
            "3                                       Good product  positive  \n",
            "4  Pls confirm me the screen time one full charge...  positive  \n"
          ]
        }
      ]
    }
  ],
  "metadata": {
    "accelerator": "GPU",
    "colab": {
      "provenance": [],
      "toc_visible": true,
      "authorship_tag": "ABX9TyMDILvERcVcitST6111PmHh",
      "include_colab_link": true
    },
    "kernelspec": {
      "display_name": "Python 3",
      "name": "python3"
    },
    "language_info": {
      "name": "python"
    }
  },
  "nbformat": 4,
  "nbformat_minor": 0
}